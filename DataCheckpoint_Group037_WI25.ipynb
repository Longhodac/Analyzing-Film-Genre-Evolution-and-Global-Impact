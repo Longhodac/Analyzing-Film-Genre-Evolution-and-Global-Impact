{
 "cells": [
  {
   "cell_type": "markdown",
   "metadata": {},
   "source": [
    "**If you lost points on the last checkpoint you can get them back by responding to TA/IA feedback**  \n",
    "\n",
    "Update/change the relevant sections where you lost those points, make sure you respond on GitHub Issues to your TA/IA to call their attention to the changes you made here.\n",
    "\n",
    "Please update your Timeline... no battle plan survives contact with the enemy, so make sure we understand how your plans have changed."
   ]
  },
  {
   "cell_type": "markdown",
   "metadata": {},
   "source": [
    "# COGS 108 - Data Checkpoint"
   ]
  },
  {
   "cell_type": "markdown",
   "metadata": {},
   "source": [
    "# Names\n",
    "\n",
    "- Naomi Crowder\n",
    "- Linh Dinh\n",
    "- Long HoDac\n",
    "- Nathan Nguyen\n",
    "- Kate Wang"
   ]
  },
  {
   "cell_type": "markdown",
   "metadata": {},
   "source": [
    "# Research Question"
   ]
  },
  {
   "cell_type": "markdown",
   "metadata": {},
   "source": [
    "**\"How did the COVID-19 pandemic impact the genres of top-grossing films, comparing the genres of the 100 highest-grossing films released post COVID-19 pandemic (2022-2024) compared to pre-pandemic years (2017-2019)?\"**\n",
    "\n"
   ]
  },
  {
   "cell_type": "markdown",
   "metadata": {},
   "source": [
    "## Background and Prior Work"
   ]
  },
  {
   "cell_type": "markdown",
   "metadata": {},
   "source": [
    "Films and movies are powerful tools for reflecting aspects of society and human relationships, conveying various messages to a large audience. The evolution of predominant genres and themes serves a fascinating lens to examine the intersection of cinema and societal change. Themes and genres of films have evolved over time, mostly driven by factors such as audience demand or a desire of innovative concepts.<a name=\"cite_ref-1\"></a>[<sup>1</sup>](#cite_note-1) Over the past two decades, global events have shaped the continuously growing film industry. In particular, the COVID-19 pandemic, beginning late 2019, has had far-reaching effects. The historic event marked a change in industry trends, production, and audience engagement.<a name=\"cite_ref-2\"></a>[<sup>2</sup>](#cite_note-2) More importantly, the pandemic has affected every socioeconomic and political aspect of society. These changes have also potentially altered the landscape of popular cinema, affecting the types of narratives that find commercial success and popularity.\n",
    "\n",
    "There has been many discussions surrounding the cultural and social influences of the COVID-19 pandemic on film genres, reflecting the changing values, fears, and politics of society over time. Most authors focus on the impact of the pandemic on film marketing and production, but they have not explored much on potential shifts in genres. To look a little more closely on this topic overall, we can explore the shifts in trending genres that have been noted after certain major events. For instance, dystopian movies (or movies that focused on the idea of mass extinction/plague) gained traction after the development of the atomic bomb during World War 2 and was popularized by Elia Kazan's \"Panic in the Streets\" (1950).<a name=\"cite_ref-3\"></a>[<sup>3</sup>](#cite_note-3) Another example is the development of the horror genre's diversification of storytelling and incorporating modern themes, such as social and racial injustices as seen in Jordan Peele's \"Get Out\" (2017).<a name=\"cite_ref-4\"></a>[<sup>4</sup>](#cite_note-4) These examples strengthen the exploration of the reflection of societal events in films. In regards to the pandemic specifically, the topic is still being explored but there are conversations on the event's influence on new horror trends that emphasize isolation and contagion, as seen in films like \"Host\" (2020) which was shot entirely through a Zoom call.<a name=\"cite_ref-4\"></a>[<sup>4</sup>](#cite_note-4) It seems to mirror the global shift occurring during that time. One thing that could be explored more in depth is how they both impact the other (how films shape cultural/political/economic landscape?). These examples have us interested in the kind of influence the pandemic might have had on popularized genres.\n",
    "\n",
    "While these discussions provide valuable insights into industry-wide changes, there is a gap in understanding if the pandemic has actually impacted the themes and genres of top-grossing films. In our research, we aim to bridge that gap by comparing the 100 highest-grossing films released post-pandemic (2022-2024) to those from the pre-pandemic period (2000-2019), offering a more nuanced view of how this global event has influenced storytelling in mainstream cinema. We plan on analyzing box office trends and keywords describing genres to find out if certain genres are popularized from the impact of the pandemic, and seeing if there is a correlation of those popularized genres to the socioeconomic and political implications caused by the COVID-19 pandemic.\n",
    "\n",
    "1. <a name=\"cite_note-1\"></a> [^](#cite_ref-1) Rewind Zone (24 Aug 2023) The Evolution of Movie Genres: Examining Shifts in Popularity and Diversity from the 90s to Today. *Medium*. https://medium.com/%40TheRewindZone/the-evolution-of-movie-genres-examining-shifts-in-popularity-and-diversity-from-the-90s-to-today-ca1ffd1ca445\n",
    "\n",
    "2. <a name=\"cite_note-2\"></a> [^](#cite_ref-2) Alanay, D. (3 Mar) COVID's Impact on the Film Industry: \"The Biggest Shift in the History of Hollywood\". *Wharton UME*. https://www.whartonume.com/blog/covids-impact-on-the-film-industry-the-biggest-shift-in-the-history-of-hollywood \n",
    "\n",
    "3. <a name=\"cite_note-3\"></a> [^](#cite_ref-3) Cardillo, J. (27 Mar 2020) Pandemic and dystopian movies: A brief history, with Tom Doherty. *BrandeisNOW*. https://www.brandeis.edu/now/2020/march/tom-doherty-dystopian-movies.html \n",
    "\n",
    "4. <a name=\"cite_note-4\"></a> [^](#cite_ref-4) Mccluskey, M. (7 Oct 2020) Horror Films Have Always Tapped Into Pop Culture’s Most Urgent Fears. COVID-19 Will Be Their Next Inspiration. *TIME*. https://time.com/5891305/horror-movies-coronavirus-history-genre/"
   ]
  },
  {
   "cell_type": "markdown",
   "metadata": {},
   "source": [
    "# Hypothesis\n"
   ]
  },
  {
   "cell_type": "markdown",
   "metadata": {},
   "source": [
    "\n",
    "We believe that the predominant genres in the top 100 grossing films over the past two decades have shifted toward action-packed genres such as action, fantasy, and sci-fi, reflecting the COVID-19 pandemic, with films often reflecting the themes of survival or dystopias."
   ]
  },
  {
   "cell_type": "markdown",
   "metadata": {},
   "source": [
    "# Data"
   ]
  },
  {
   "cell_type": "markdown",
   "metadata": {},
   "source": [
    "## Data overview\n",
    "\n",
    "- Dataset #1  \n",
    "  - Dataset Name: Full TMDB Movies Dataset 2024 (1M Movies)  \n",
    "  - Link to the dataset: https://www.kaggle.com/datasets/asaniczka/tmdb-movies-dataset-2023-930k-movies/versions/491?resource=download  \n",
    "  - Number of observations: 1181912  \n",
    "  - Number of variables: 24  \n",
    "\n",
    "This dataset is updated daily and is a movie database, sourcing information from the TMDB database. Key variables include 'title' (string) representing the movie's name, 'release_date' (date) indicating when the movie was released, 'genre' (string) denoting the production cost in dollars, and 'revenue' (integer) reflecting the earnings in dollars. These variables serve as proxies for analyzing trends in movie production, release patterns, and financial performance over time. \n",
    "\n",
    "In order to prepate this dataset to answer our questions, we have to drop the variables we don't need (e.g. IMDB id) as it has a lot of different movie-related topics, we also need to narrow down the amount of observations to just the relevant years since it spans way over what we need, clear null values (since some movies don't have recorded revenue), and then reorder the data to from greatest to lowest revenue values."
   ]
  },
  {
   "cell_type": "markdown",
   "metadata": {},
   "source": [
    "# Full TMDB Movies Dataset 2024"
   ]
  },
  {
   "cell_type": "markdown",
   "metadata": {},
   "source": [
    "**IMPORTANT NOTE: We were unable to add the CSV file to the Github repository after many tries and could not find a way to import our file because it was too large. We have asked for assistance on ED, but have not received a response. We uploaded the CSV file separately into JupyterHub and cleaned it up on a separate notebook. The following is the code that we used to acquire our clean/tidy data. We hope to receive a response soon and find a way to import our file into the repository as soon as possible. Thank you for understanding.**"
   ]
  },
  {
   "cell_type": "code",
   "execution_count": null,
   "metadata": {},
   "outputs": [
    {
     "ename": "ModuleNotFoundError",
     "evalue": "No module named 'pandas'",
     "output_type": "error",
     "traceback": [
      "\u001b[1;31m---------------------------------------------------------------------------\u001b[0m",
      "\u001b[1;31mModuleNotFoundError\u001b[0m                       Traceback (most recent call last)",
      "Cell \u001b[1;32mIn[2], line 1\u001b[0m\n\u001b[1;32m----> 1\u001b[0m \u001b[38;5;28;01mimport\u001b[39;00m\u001b[38;5;250m \u001b[39m\u001b[38;5;21;01mpandas\u001b[39;00m\u001b[38;5;250m \u001b[39m\u001b[38;5;28;01mas\u001b[39;00m\u001b[38;5;250m \u001b[39m\u001b[38;5;21;01mpd\u001b[39;00m\n",
      "\u001b[1;31mModuleNotFoundError\u001b[0m: No module named 'pandas'"
     ]
    }
   ],
   "source": [
    "import pandas as pd"
   ]
  },
  {
   "cell_type": "code",
   "execution_count": null,
   "metadata": {},
   "outputs": [
    {
     "ename": "NameError",
     "evalue": "name 'pd' is not defined",
     "output_type": "error",
     "traceback": [
      "\u001b[1;31m---------------------------------------------------------------------------\u001b[0m",
      "\u001b[1;31mNameError\u001b[0m                                 Traceback (most recent call last)",
      "Cell \u001b[1;32mIn[3], line 2\u001b[0m\n\u001b[0;32m      1\u001b[0m movies_data \u001b[38;5;241m=\u001b[39m \u001b[38;5;124m'\u001b[39m\u001b[38;5;124mTMDB_movie_dataset_v11.csv\u001b[39m\u001b[38;5;124m'\u001b[39m\n\u001b[1;32m----> 2\u001b[0m df \u001b[38;5;241m=\u001b[39m \u001b[43mpd\u001b[49m\u001b[38;5;241m.\u001b[39mread_csv(movies_data)\n\u001b[0;32m      3\u001b[0m df\n",
      "\u001b[1;31mNameError\u001b[0m: name 'pd' is not defined"
     ]
    }
   ],
   "source": [
    "import kagglehub\n",
    "\n",
    "# Download selected version\n",
    "path = kagglehub.dataset_download(\"asaniczka/tmdb-movies-dataset-2023-930k-movies/versions/491\")\n",
    "\n",
    "path"
   ]
  },
  {
   "cell_type": "code",
   "execution_count": null,
   "metadata": {},
   "outputs": [],
   "source": [
    "import os\n",
    "df = pd.read_csv(os.path.join(path, 'TMDB_movie_dataset_v11.csv'))\n",
    "df"
   ]
  },
  {
   "cell_type": "code",
   "execution_count": null,
   "metadata": {},
   "outputs": [],
   "source": [
    "# Drop columns\n",
    "df.drop(columns=['id', 'vote_average', 'vote_count', 'status', 'runtime', 'adult', 'backdrop_path', 'budget', 'homepage', 'imdb_id', 'original_title', 'overview',\n",
    "                  'popularity', 'poster_path', 'tagline', 'production_companies', \n",
    "                 'original_language','production_countries', 'spoken_languages', 'keywords'], inplace=True)\n",
    "df"
   ]
  },
  {
   "cell_type": "code",
   "execution_count": null,
   "metadata": {},
   "outputs": [],
   "source": [
    "#change date to year\n",
    "df['release_date'] = pd.to_datetime(df['release_date'])\n",
    "\n",
    "df['release_date'] = df['release_date'].astype(int)\n",
    "df"
   ]
  },
  {
   "cell_type": "code",
   "execution_count": null,
   "metadata": {},
   "outputs": [],
   "source": [
    "df = df[(df['release_date'] >= 2000) & (df['release_date'] <= 2024)]\n",
    "\n",
    "df"
   ]
  },
  {
   "cell_type": "code",
   "execution_count": null,
   "metadata": {},
   "outputs": [],
   "source": [
    "#sort greatest to least by revenue\n",
    "df = df.sort_values(by='revenue', ascending=False)\n",
    "df"
   ]
  },
  {
   "cell_type": "code",
   "execution_count": null,
   "metadata": {},
   "outputs": [],
   "source": [
    "# Remove movies with suspicious revenue amounts\n",
    "df = df[df['revenue'] != 3000000000]  # Remove exact 3B revenue\n",
    "df = df[df['revenue'] >= 0]  # Remove negative revenues\n",
    "df = df.reset_index(drop=True)"
   ]
  },
  {
   "cell_type": "code",
   "execution_count": null,
   "metadata": {},
   "outputs": [],
   "source": [
    "df = df.head(100)  # Save the top 100 movies to df\n",
    "pd.set_option('display.max_rows', None)\n",
    "df"
   ]
  },
  {
   "cell_type": "markdown",
   "metadata": {},
   "source": [
    "## Dataset #2 (if you have more than one, use name instead of number here)"
   ]
  },
  {
   "cell_type": "code",
   "execution_count": null,
   "metadata": {},
   "outputs": [],
   "source": [
    "## YOUR CODE TO LOAD/CLEAN/TIDY/WRANGLE THE DATA GOES HERE\n",
    "## FEEL FREE TO ADD MULTIPLE CELLS PER SECTION "
   ]
  },
  {
   "cell_type": "markdown",
   "metadata": {},
   "source": [
    "# Ethics & Privacy"
   ]
  },
  {
   "cell_type": "markdown",
   "metadata": {},
   "source": [
    "The ethical considerations in our project include a variety of stages in the data science timeline, from beginning to end. Our goal is to ensure that our study remains unbiased, respects privacy concerns, and provides meaningful insights without any misrepresentation.\n",
    "While our datasets cover a broad range of topics, they also present some potential biases and ethical concerns that we would like to acknowledge and address:\n",
    "Our proposed question involves data that includes topics related to movies as well as major world events and historical moments. The ethical implications in our question lead us to ensure that we emphasize correlation over causation and not cherry-picking “world events”.\n",
    "\n",
    "**1. Film Data Biases** \n",
    "Genre Classification Issues: The way genres and themes are labeled varies across sources. Alsom, automated classification can introduce inaccuracies.\n",
    "\n",
    "Streaming vs. Theatrical Shifts: Recently, there has been a big shift in audience viewing platforms, particularly the movement from going to movie theaters to streaming platforms like Netflix, Max, Hulu, etc. This could introduce only partial representation of films and give us a less well-rounded answer.\n",
    "\n",
    "Western Film Biases: There could be an unequal representation of regional film industries, such that some of the biggest non-Western film industries (Bollywood, Nollywood, Chinese cinema) have huge domestic audiences but are less likely to rank in the global top 50 because they rely on local box office success rather than international distribution. In this way, they could still be reflecting major global events through the lens of their cultural representation but not make it to the top grossing films and their influence would be lost. \n",
    "\n",
    "**2. World Events Data Biases**  \n",
    "Media Coverage: The datasets we use for world events (Our World in Data, IMF, Global Terrorism Database) rely on media reports and institutional records. Media coverage can introduce biases, as some events receive disproportionate attention while others remain underreported.  \n",
    "  \n",
    "Political or Cultural Framing: Some sources may reflect the perspectives of the organizations that collect them, particularly those tracking political or terrorism-related events which we may pull data from.  \n",
    "\n",
    "**3. Privacy and Terms of Use Issues**  \n",
    "Our data comes from publicly available sources, but datasets such as IMDb’s data and Kaggle datasets have terms of use that restrict commercial application and redistribution. We will be sure to comply  with these terms. No personally identifiable information is used in our project, so there aren’t many  privacy risks. However, some datasets (like IMDb) contain user-generated content such as reviews, which could come with their own biases.\n",
    "\n",
    "**4. Detecting and Mitigating Biases**  \n",
    "To minimize biases in our analysis, we plan to cover a few important bases. Before conducting the main analysis, we will review whether our datasets properly and fully cover diverse film industries and world events. This will help analyze representation in data. We will also try to compare multiple sources to help us check for inconsistencies in classification of events and film genres, as these can be subjective and vary. If we find certain groups, genres, or regions underrepresented, we will explicitly state these limitations in our findings. Finally, we will use transparency in our interpretations. Our results will be sure to not emphasize causation between world events and film trends but will highlight patterns instead.\n",
    "\n",
    "**5. Addressing Data Privacy and Equitable Impact**  \n",
    "While our project does not involve personal data, we recognize a few things. A disproportionate focus on certain themes could reinforce stereotypes. In the case that we find an increase in war or terrorism-related movies following real-world conflicts, we must be careful not to draw direct causal conclusions that could create harmful narratives. We also must acknowledge an economic bias in revenue-based metrics. Using revenue as a metric for movie success may disproportionately highlight blockbuster films while overlooking artistic and cultural contributions from non-mainstream cinema.\n",
    "\n",
    "**6. Ethical Handling of Findings**   \n",
    "We will practice responsible communication by ensuring that our conclusions do not oversimplify complex socio-political influences on media trends. We will consider alternative narratives when discussing changes in film themes (ex: acknowledging the role of independent and international cinema even if underrepresented in our dataset)."
   ]
  },
  {
   "cell_type": "markdown",
   "metadata": {},
   "source": [
    "# Team Expectations "
   ]
  },
  {
   "cell_type": "markdown",
   "metadata": {},
   "source": [
    "* ***Meet deadlines on the agreed time.***\n",
    "* ***Have meetings as necessary (for example, have a meeting when there is a deadline at the end of the week)***\n",
    "* ***Communicate in a timely manner (promptly respond in groupchat promptly).***\n",
    "* ***Give frequent updates on what you're doing/working on (pushing, etc)***"
   ]
  },
  {
   "cell_type": "markdown",
   "metadata": {},
   "source": [
    "# Project Timeline Proposal"
   ]
  },
  {
   "cell_type": "markdown",
   "metadata": {},
   "source": [
    "Specify your team's specific project timeline. An example timeline has been provided. Changes the dates, times, names, and details to fit your group's plan.\n",
    "\n",
    "If you think you will need any special resources or training outside what we have covered in COGS 108 to solve your problem, then your proposal should state these clearly. For example, if you have selected a problem that involves implementing multiple neural networks, please state this so we can make sure you know what you’re doing and so we can point you to resources you will need to implement your project. Note that you are not required to use outside methods.\n",
    "\n",
    "\n",
    "\n",
    "| Meeting Date  | Meeting Time| Completed Before Meeting  | Discuss at Meeting |\n",
    "|---|---|---|---|\n",
    "| 2/1  |  6:30 PM | Read & Think about COGS 108 expectations; brainstorm topics/questions  | Determine best form of communication; Discuss and decide on final project topic; discuss hypothesis; begin background research | \n",
    "| 2/7  |  6:30 AM |  Do background research on topic | Discuss ideal dataset(s) and ethics; draft project proposal | \n",
    "| 2/9  | Before 11:59 PM  | Edit, finalize, and submit proposal; Search for datasets  | Discuss Wrangling and possible analytical approaches; Assign group members to lead each specific part   |\n",
    "| 2/20  | 6 PM  | Review feedback on Project Proposal | Discuss changes to proposal, Finalize datasets, and Allocate tasks for cleaning data. |\n",
    "| 2/28  | 6:30 PM | Review EDA | Discuss how we should perform EDA and allocate tasks. |\n",
    "| 3/7  | 6:30 PM  | Finalize wrangling/EDA; Begin Analysis (All) | Discuss/edit Analysis; Complete project check-in |\n",
    "| 3/14  | 6:30 PM  | Complete analysis; Draft results/conclusion/discussion (Wasp)| Discuss/edit full project |\n",
    "| 3/19  | Before 11:59 PM  | NA | Turn in Final Project & Group Project Surveys |"
   ]
  },
  {
   "cell_type": "markdown",
   "metadata": {},
   "source": [
    "**Team meetings will take place on Fridays, at 6:30 PM, however, are subject to change based on availability and urgency of deadline. Our team will discuss these details with each other when necessary. We will also discuss task delegation after we receive feedback on our proposal/research topic, and make any adjustments as needed down the line. We also plan to have meetings as needed, even if not listed on the timeline.**"
   ]
  }
 ],
 "metadata": {
  "kernelspec": {
   "display_name": "Python 3",
   "language": "python",
   "name": "python3"
  },
  "language_info": {
   "codemirror_mode": {
    "name": "ipython",
    "version": 3
   },
   "file_extension": ".py",
   "mimetype": "text/x-python",
   "name": "python",
   "nbconvert_exporter": "python",
   "pygments_lexer": "ipython3",
   "version": "3.9.6"
  }
 },
 "nbformat": 4,
 "nbformat_minor": 2
}
