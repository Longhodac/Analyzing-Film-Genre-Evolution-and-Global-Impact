{
 "cells": [
  {
   "cell_type": "markdown",
   "metadata": {},
   "source": [
    "# COGS 108 - Project Proposal"
   ]
  },
  {
   "cell_type": "markdown",
   "metadata": {},
   "source": [
    "# Names\n",
    "\n",
    "- Naomi Crowder\n",
    "- Linh Dinh\n",
    "- Long HoDac\n",
    "- Nathan Nguyen\n",
    "- Kate Wang"
   ]
  },
  {
   "cell_type": "markdown",
   "metadata": {},
   "source": [
    "# Research Question"
   ]
  },
  {
   "cell_type": "markdown",
   "metadata": {},
   "source": [
    "-  Include a specific, clear data science question.\n",
    "-  Make sure what you're measuring (variables) to answer the question is clear\n",
    "\n",
    "This question should be specific, answerable with data, and clear. A general question with specific subquestions is permitted. (1-2 sentences). When we read this we should know clearly what your project will be about.\n",
    "\n",
    "**Research Question: How have the predominant genres and themes in the top 50 grossing films each year changed between 2000-2023, and is there a relationship between these changes and major world events?**"
   ]
  },
  {
   "cell_type": "markdown",
   "metadata": {},
   "source": [
    "## Background and Prior Work"
   ]
  },
  {
   "cell_type": "markdown",
   "metadata": {},
   "source": [
    "\n",
    "- Include a general introduction to your topic\n",
    "- Include explanation of what work has been done previously\n",
    "- Include citations or links to previous work\n",
    "\n",
    "This section will present the background and context of your topic and question in a few paragraphs. Include a general introduction to your topic and then describe what information you currently know about the topic after doing your initial research. Include references to other projects who have asked similar questions or approached similar problems. Explain what others have learned in their projects.\n",
    "\n",
    "Find some relevant prior work, and reference those sources, summarizing what each did and what they learned. Even if you think you have a totally novel question, find the most similar prior work that you can and discuss how it relates to your project.\n",
    "\n",
    "References can be research publications, but they need not be. Blogs, GitHub repositories, company websites, etc., are all viable references if they are relevant to your project. It must be clear which information comes from which references. (2-3 paragraphs, including at least 2 references)\n",
    "\n",
    " **Use inline citation through HTML footnotes to specify which references support which statements** \n",
    "\n",
    "\n",
    "For example: After government genocide in the 20th century, real birds were replaced with surveillance drones designed to look just like birds.<a name=\"cite_ref-1\"></a>[<sup>1</sup>](#cite_note-1) Use a minimum of 2 or 3 citations, but we prefer more.<a name=\"cite_ref-2\"></a>[<sup>2</sup>](#cite_note-2) You need enough to fully explain and back up important facts. \n",
    "\n",
    "Note that if you click a footnote number in the paragraph above it will transport you to the proper entry in the footnotes list below.  And if you click the ^ in the footnote entry, it will return you to the place in the main text where the footnote is made.\n",
    "\n",
    "To understand the HTML here, `<a name=\"#...\"> </a>` is a tag that allows you produce a named reference for a given location.  Markdown has the construciton `[text with hyperlink](#named reference)` that will produce a clickable link that transports you the named reference.\n",
    "\n",
    "1. <a name=\"cite_note-1\"></a> [^](#cite_ref-1) Lorenz, T. (9 Dec 2021) Birds Aren’t Real, or Are They? Inside a Gen Z Conspiracy Theory. *The New York Times*. https://www.nytimes.com/2021/12/09/technology/birds-arent-real-gen-z-misinformation.html \n",
    "2. <a name=\"cite_note-2\"></a> [^](#cite_ref-2) Also refs should be important to the background, not some randomly chosen vaguely related stuff. Include a web link if possible in refs as above."
   ]
  },
  {
   "cell_type": "markdown",
   "metadata": {},
   "source": [
    "Films and movies are often powerful tools for reflecting societal issues and raising awareness for a large audience. The evolution of predominant genres and themes provides a fascinating lens to examine the intersection of cinema and societal change. Over the past two decades, global events have shaped cultural narratives and audience preferences. Examples include increasing discussions on the climate crisis and the COVID-19 pandemic, both of which have influenced not only film content but also industry trends and audience engagement.<a name=\"cite_ref-1\"></a>[<sup>1</sup>](#cite_note-1) By analyzing box office trends alongside major world events, we can uncover patterns that reveal cinema's role as both a reflection of and a response to the world around it.  \n",
    "\n",
    "The COVID-19 pandemic, for example, has brought a seismic shift in the film industry regarding the way of production, scheduling, and thematic trends. Scholars have found out that in the early stages of the pandemic, Hollywood readjusted itself by moving toward digital distribution and incorporating pandemic-related themes into storytelling.<a name=\"cite_ref-2\"></a>[<sup>2</sup>](#cite_note-2) Similarly, issues of climate change have also become common in high-budget films. Blockbusters now incorporate narratives of environmental disasters, resource depletion, and human resilience.<a name=\"cite_ref-3\"></a>[<sup>3</sup>](#cite_note-3) This resonates with the broader social anxieties and building up of environmental rhetoric.  \n",
    "\n",
    "We analyze the interrelation between films and major world events to determine whether they influence each other in any measurable form. We will also try through data analysis if it is possible to predetermine the impact of a film based on prevalent conditions in society and historical patterns.\n",
    "\n",
    "\n",
    "**References**\n",
    "1. <a name=\"cite_note-1\"></a> [^](#cite_ref-1) The Evolution of Movie Genres: Examining Shifts in Popularity and Diversity from the 90s to Today. Medium. https://medium.com/%40TheRewindZone/the-evolution-of-movie-genres-examining-shifts-in-popularity-and-diversity-from-the-90s-to-today-ca1ffd1ca445\n",
    "\n",
    "2. <a name=\"cite_note-2\"></a> [^](#cite_ref-2) Davis, M. (2021). Pandemic in Perspective: COVID-19’s Early Impact on Hollywood. Journal of Film Industry Studies, 7(3), 45–66. https://www.researchgate.net/publication/371369618_The_Impact_of_COVID-19_on_the_Cinema_Industry\n",
    "\n",
    "3. <a name=\"cite_note-3\"></a> [^](#cite_ref-3) The Evolution of Film Genres: A Comparative Analysis of Hollywood and Bollywood. Paradigm Press. https://www.paradigmpress.org/as/article/view/736"
   ]
  },
  {
   "cell_type": "markdown",
   "metadata": {},
   "source": [
    "# Hypothesis\n"
   ]
  },
  {
   "cell_type": "markdown",
   "metadata": {},
   "source": [
    "\n",
    "- Put your hypothesis here, this is different than your question. This what you think the answer will be \n",
    "- Ensure that this hypothesis is clear to readers\n",
    "- Explain why you think this will be the outcome (what was your thinking?)\n",
    "\n",
    "If you question is \"What is the association between X and Y\" then a hypothesis might be \"We predict a strong correlation between X and Y\" or you might predict no correlation or any other possible relationship. Briefly explain your thinking. (2-3 sentences)"
   ]
  },
  {
   "cell_type": "markdown",
   "metadata": {},
   "source": [
    "**We believe that the predominant genres and themes in the top 50 grossing films over the past two decades have shifted toward action-packed genres such as action, fantasy, and sci-fi, reflecting major world events. Crises like the COVID-19 pandemic and global political chaos have influenced these trends, with films often reflecting the themes of survival or dystopias.**"
   ]
  },
  {
   "cell_type": "markdown",
   "metadata": {},
   "source": [
    "# Data"
   ]
  },
  {
   "cell_type": "markdown",
   "metadata": {},
   "source": [
    "1. Explain what the **ideal** dataset you would want to answer this question. (This should include: What variables? How many observations? Who/what/how would these data be collected? How would these data be stored/organized?)\n",
    "1. Search for potential **real** datasets that could provide you with something useful for this project.  You do not have to find every piece of data you will use, but you do need to have demonstrated some idea that (a) this data is gettable and (b) that this data may be different from what your ideal is."
   ]
  },
  {
   "cell_type": "markdown",
   "metadata": {},
   "source": [
    "**Question 1: Ideal Dataset**\n",
    "- Film Data Variables:\n",
    "    - Film ID: A unique identifier for each film\n",
    "    - Title: The name of the film\n",
    "    - Year of Release: The release year (2000–2023)\n",
    "    - Box Office Gross: Domestic and/or worldwide gross revenue\n",
    "    - Primary Genre(s): E.g., Action, Comedy, Drama, etc. \n",
    "    - Theme Keywords: Keywords derived from the plot summary, marketing materials, or manual/ automated content coding (e.g., “heroism,” “dystopia,” “romance”)\n",
    "    - Ratings: Critical (e.g., Rotten Tomatoes, Metacritic) and/or audience scores (e.g., IMDb rating)\n",
    "    - Country of Production\n",
    "- World Events Data Variables:\n",
    "    - Event ID: Unique identifier for each event\n",
    "    - Event Name/Title: E.g., “9/11 Attacks,” “Global Financial Crisis 2008,” “COVID-19 Pandemic”\n",
    "    - Event Date/Period: The date or range when the event occurred\n",
    "    - Event Type: Political, economic, social, health-related, etc.\n",
    "    - Geographical Scope: Global, regional, or local\n",
    "    - Severity/Intensity Score: A quantitative measure if available (for example, economic impact figures, casualty numbers, media coverage volume)\n",
    "    - Duration: Length of time the event was active                                       \n",
    "- Number of Observations: \n",
    "    - One observation per film\n",
    "    - The top 50 grossing films for each year between 2000 and 2023\n",
    "    - roughly 24 × 50 = 1,200 film observations\n",
    "- Data Collection Method: \n",
    "    - Use APIs (e.g., IMDb API, TMDb API) and/or web scraping to gather the data\n",
    "    - Cross-reference multiple sources to ensure completeness and accuracy\n",
    "- Organization: \n",
    "    Data Format\n",
    "    - Relational Database: Films and events could be stored in separate but related tables. For example, a “Films” table (with film ID as primary key) and an “Events” table (with event ID)\n",
    "    - CSV/JSON Files: For simpler analysis or for sharing with collaborators\n",
    "- Linking Mechanism\n",
    "    - While the two datasets might not directly share a common key, analysis can be performed by matching film release years or periods to the timeline of world events. An additional “time” dimension (e.g., year or quarter) can serve as the linking variable.\n",
    "- Data Cleaning and Preprocessing:\n",
    "    - Ensure consistency in naming conventions (e.g., genre labels) across different data sources.\n",
    "    - Preprocess textual data (e.g., plot summaries) using natural language processing (NLP) techniques to extract themes if necessary.\n",
    "\n",
    "**Question 2: Potential Datasets**  \n",
    "- World history:  \n",
    "    - https://ourworldindata.org/    \n",
    "- Movies:\n",
    "    - https://www.kaggle.com/datasets/utkarshx27/movies-dataset\n",
    "    - https://datasets.imdbws.com/\n",
    "    - https://huggingface.co/datasets/jquigl/imdb-genres\n",
    "    - https://www.kaggle.com/datasets/saketk511/world-important-events-ancient-to-modern\n",
    "    - https://www.kaggle.com/datasets/rounakbanik/the-movies-dataset  \n",
    "    - revenue: https://www.kaggle.com/datasets/danielgrijalvas/movies\n",
    "    - Random help: https://imerit.net/blog/13-best-movie-data-sets-for-machine-learning-projects-all-pbm/ \n",
    "    - https://www.boxofficemojo.com/ \n"
   ]
  },
  {
   "cell_type": "markdown",
   "metadata": {},
   "source": [
    "# Ethics & Privacy"
   ]
  },
  {
   "cell_type": "markdown",
   "metadata": {},
   "source": [
    "- Thoughtful discussion of ethical concerns included\n",
    "- Ethical concerns consider the whole data science process (question asked, data collected, data being used, the bias in data, analysis, post-analysis, etc.)\n",
    "- How your group handled bias/ethical concerns clearly described\n",
    "\n",
    "Acknowledge and address any ethics & privacy related issues of your question(s), proposed dataset(s), and/or analyses. Use the information provided in lecture to guide your group discussion and thinking. If you need further guidance, check out [Deon's Ethics Checklist](http://deon.drivendata.org/#data-science-ethics-checklist). In particular:\n",
    "\n",
    "- Are there any biases/privacy/terms of use issues with the data you propsed?\n",
    "- Are there potential biases in your dataset(s), in terms of who it composes, and how it was collected, that may be problematic in terms of it allowing for equitable analysis? (For example, does your data exclude particular populations, or is it likely to reflect particular human biases in a way that could be a problem?)\n",
    "- How will you set out to detect these specific biases before, during, and after/when communicating your analysis?\n",
    "- Are there any other issues related to your topic area, data, and/or analyses that are potentially problematic in terms of data privacy and equitable impact?\n",
    "- How will you handle issues you identified?"
   ]
  },
  {
   "cell_type": "markdown",
   "metadata": {},
   "source": [
    "The ethical considerations in our project include a variety of stages in the data science timeline, from beginning to end. Our goal is to ensure that our study remains unbiased, respects privacy concerns, and provides meaningful insights without any misrepresentation.\n",
    "While our datasets cover a broad range of topics, they also present some potential biases and ethical concerns that we would like to acknowledge and address:\n",
    "Our proposed question involves data that includes topics related to movies as well as major world events and historical moments. The ethical implications in our question lead us to ensure that we emphasize correlation over causation and not cherry-picking “world events”.\n",
    "\n",
    "**1. Film Data Biases** \n",
    "Genre Classification Issues: The way genres and themes are labeled varies across sources. Alsom, automated classification can introduce inaccuracies.\n",
    "\n",
    "Streaming vs. Theatrical Shifts: Recently, there has been a big shift in audience viewing platforms, particularly the movement from going to movie theaters to streaming platforms like Netflix, Max, Hulu, etc. This could introduce only partial representation of films and give us a less well-rounded answer.\n",
    "\n",
    "Western Film Biases: There could be an unequal representation of regional film industries, such that some of the biggest non-Western film industries (Bollywood, Nollywood, Chinese cinema) have huge domestic audiences but are less likely to rank in the global top 50 because they rely on local box office success rather than international distribution. In this way, they could still be reflecting major global events through the lens of their cultural representation but not make it to the top grossing films and their influence would be lost. \n",
    "\n",
    "**2. World Events Data Biases**  \n",
    "Media Coverage: The datasets we use for world events (Our World in Data, IMF, Global Terrorism Database) rely on media reports and institutional records. Media coverage can introduce biases, as some events receive disproportionate attention while others remain underreported.  \n",
    "  \n",
    "Political or Cultural Framing: Some sources may reflect the perspectives of the organizations that collect them, particularly those tracking political or terrorism-related events which we may pull data from.  \n",
    "\n",
    "**3. Privacy and Terms of Use Issues**  \n",
    "Our data comes from publicly available sources, but datasets such as IMDb’s data and Kaggle datasets have terms of use that restrict commercial application and redistribution. We will be sure to comply  with these terms. No personally identifiable information is used in our project, so there aren’t many  privacy risks. However, some datasets (like IMDb) contain user-generated content such as reviews, which could come with their own biases.\n",
    "\n",
    "**4. Detecting and Mitigating Biases**  \n",
    "To minimize biases in our analysis, we plan to cover a few important bases. Before conducting the main analysis, we will review whether our datasets properly and fully cover diverse film industries and world events. This will help analyze representation in data. We will also try to compare multiple sources to help us check for inconsistencies in classification of events and film genres, as these can be subjective and vary. If we find certain groups, genres, or regions underrepresented, we will explicitly state these limitations in our findings. Finally, we will use transparency in our interpretations. Our results will be sure to not emphasize causation between world events and film trends but will highlight patterns instead.\n",
    "\n",
    "**5. Addressing Data Privacy and Equitable Impact**  \n",
    "While our project does not involve personal data, we recognize a few things. A disproportionate focus on certain themes could reinforce stereotypes. In the case that we find an increase in war or terrorism-related movies following real-world conflicts, we must be careful not to draw direct causal conclusions that could create harmful narratives. We also must acknowledge an economic bias in revenue-based metrics. Using revenue as a metric for movie success may disproportionately highlight blockbuster films while overlooking artistic and cultural contributions from non-mainstream cinema.\n",
    "\n",
    "**6. Ethical Handling of Findings**   \n",
    "We will practice responsible communication by ensuring that our conclusions do not oversimplify complex socio-political influences on media trends. We will consider alternative narratives when discussing changes in film themes (ex: acknowledging the role of independent and international cinema even if underrepresented in our dataset).\n"
   ]
  },
  {
   "cell_type": "markdown",
   "metadata": {},
   "source": [
    "# Team Expectations "
   ]
  },
  {
   "cell_type": "markdown",
   "metadata": {},
   "source": [
    "\n",
    "Read over the [COGS108 Team Policies](https://github.com/COGS108/Projects/blob/master/COGS108_TeamPolicies.md) individually. Then, include your group’s expectations of one another for successful completion of your COGS108 project below. Discuss and agree on what all of your expectations are. Discuss how your team will communicate throughout the quarter and consider how you will communicate respectfully should conflicts arise. By including each member’s name above and by adding their name to the submission, you are indicating that you have read the COGS108 Team Policies, accept your team’s expectations below, and have every intention to fulfill them. These expectations are for your team’s use and benefit — they won’t be graded for their details.\n",
    "\n",
    "* ***Meet deadlines on the agreed time.***\n",
    "* ***Have meetings as necessary (for example, have a meeting when there is a deadline at the end of the week)***\n",
    "* ***Communicate in a timely manner (promptly respond in groupchat promptly).***\n",
    "* ***Give frequent updates on what you're doing/working on (pushing, etc)***\n"
   ]
  },
  {
   "cell_type": "markdown",
   "metadata": {},
   "source": [
    "# Project Timeline Proposal"
   ]
  },
  {
   "cell_type": "markdown",
   "metadata": {},
   "source": [
    "Specify your team's specific project timeline. An example timeline has been provided. Changes the dates, times, names, and details to fit your group's plan.\n",
    "\n",
    "If you think you will need any special resources or training outside what we have covered in COGS 108 to solve your problem, then your proposal should state these clearly. For example, if you have selected a problem that involves implementing multiple neural networks, please state this so we can make sure you know what you’re doing and so we can point you to resources you will need to implement your project. Note that you are not required to use outside methods.\n",
    "\n",
    "\n",
    "\n",
    "| Meeting Date  | Meeting Time| Completed Before Meeting  | Discuss at Meeting |\n",
    "|---|---|---|---|\n",
    "| 2/1  |  6:30 PM | Read & Think about COGS 108 expectations; brainstorm topics/questions  | Determine best form of communication; Discuss and decide on final project topic; discuss hypothesis; begin background research | \n",
    "| 2/7  |  6:30 PM |  Do background research on topic | Discuss ideal dataset(s) and ethics; draft project proposal | \n",
    "| 2/9  | Before 11:59 PM  | Edit, finalize, and submit proposal; Search for datasets  | Discuss Wrangling and possible analytical approaches; Assign group members to lead each specific part   |\n",
    "| 2/14  | 6:30 PM  | Import & Wrangle Data; EDA | Review/Edit wrangling/EDA; Discuss Analysis Plan   |\n",
    "| 3/7  | 6:30 PM  | Finalize wrangling/EDA; Begin Analysis | Discuss/edit Analysis; Complete project check-in |\n",
    "| 3/14  | 6:30 PM  | Complete analysis; Draft results/conclusion/discussion | Discuss/edit full project |\n",
    "| 3/19  | Before 11:59 PM  | [Meet sometime before if needed] Finalize Project (Last Minute Changes and Checks) | Turn in Final Project & Group Project Surveys |\n",
    "\n",
    "***Team meetings will take place on Fridays, at 6:30 PM, however, are subject to change based on availability and urgency of deadline. Our team will discuss these details with each other when necessary. We will also discuss task delegation after we receive feedback on our proposal/research topic, and make any adjustments as needed down the line.***"
   ]
  },
  {
   "cell_type": "markdown",
   "metadata": {},
   "source": []
  }
 ],
 "metadata": {
  "kernelspec": {
   "display_name": "Python 3 (ipykernel)",
   "language": "python",
   "name": "python3"
  },
  "language_info": {
   "codemirror_mode": {
    "name": "ipython",
    "version": 3
   },
   "file_extension": ".py",
   "mimetype": "text/x-python",
   "name": "python",
   "nbconvert_exporter": "python",
   "pygments_lexer": "ipython3",
   "version": "3.9.7"
  }
 },
 "nbformat": 4,
 "nbformat_minor": 2
}
